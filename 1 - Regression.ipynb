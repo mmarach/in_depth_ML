{
 "cells": [
  {
   "cell_type": "markdown",
   "metadata": {},
   "source": [
    "<a></a>\n",
    "<div style=\"border-radius: 10px; border: 1px solid #0F9CF5; background-color: #232323; white-space: nowrap;\">\n",
    "    <p style=\"margin-top: -10px; margin-bottom: 0px; margin-left: 10px; font-size: 1.15em; padding: 10px; overflow: hidden;\">\n",
    "        <span style=\"color: orange; font-size: 2em;\">&#9432;  </span>\n",
    "        Click the <span style=\"color: orange;\">Run All</span> <img style=\"max-height: 1.5em; border: 1px solid orange;\" src=\"../img/RunAll.png\" /> button in the toolbar above to run the code in this notebook \n",
    "    </p>\n",
    "</div>"
   ]
  },
  {
   "cell_type": "markdown",
   "metadata": {},
   "source": [
    "<a id=\"document-top\"></a>\n",
    "# BQuant Machine Learning Series Part 2\n",
    "\n",
    "<a href='https://bloombergslides.com/view/mail?iID=WcXFGQVnhTVHh6Kp4gJc'>Link to Episode 2 - ML Series Video - Regression </a>"
   ]
  },
  {
   "cell_type": "code",
   "execution_count": null,
   "metadata": {},
   "outputs": [],
   "source": [
    "#Import Libraries\n",
    "from scipy import stats\n",
    "import numpy as np\n",
    "import pandas as pd\n",
    "import bqviz as bqv\n",
    "import plotly.graph_objects as go\n",
    "import plotly.express as px\n",
    "from sklearn.linear_model import LinearRegression\n",
    "import math\n",
    "from src.shared import * ## Shared library for retrieving data via BQL for Machine Learning Series"
   ]
  },
  {
   "cell_type": "markdown",
   "metadata": {},
   "source": [
    "<h3>First Example - Regression of returns of IBM against the S&P 500 Index </h3>"
   ]
  },
  {
   "cell_type": "code",
   "execution_count": null,
   "metadata": {},
   "outputs": [],
   "source": [
    "#fetch daily return data for IBM and SPX Index\n",
    "df_ibm_spx = fetch_daily_return_data(['IBM US Equity','SPX Index'])\n",
    "df_ibm_spx.tail()"
   ]
  },
  {
   "cell_type": "markdown",
   "metadata": {},
   "source": [
    "Plot daily return of IBM against the daily return of S&P 500"
   ]
  },
  {
   "cell_type": "code",
   "execution_count": null,
   "metadata": {},
   "outputs": [],
   "source": [
    "bqv.ScatterPlot(df=df_ibm_spx,x='SPX Index',y='IBM US Equity', tick_format='.2%').set_style().show()"
   ]
  },
  {
   "cell_type": "markdown",
   "metadata": {},
   "source": [
    "<h4>Scipy library</h4>\n",
    "<h5>Ordinary Least Squares Regression, using stats.linregress</h5>\n",
    "\n",
    "SciPy Linear Regression:\n",
    "https://docs.scipy.org/doc/scipy/reference/generated/scipy.stats.linregress.html"
   ]
  },
  {
   "cell_type": "code",
   "execution_count": null,
   "metadata": {},
   "outputs": [],
   "source": [
    "from scipy import stats\n",
    "slope, intercept, r_value, p_value, std_err = stats.linregress(x=df_ibm_spx['SPX Index'],y=df_ibm_spx['IBM US Equity'])"
   ]
  },
  {
   "cell_type": "markdown",
   "metadata": {},
   "source": [
    "OLS regression coefficients"
   ]
  },
  {
   "cell_type": "code",
   "execution_count": null,
   "metadata": {},
   "outputs": [],
   "source": [
    "slope, intercept, r_value, p_value, std_err"
   ]
  },
  {
   "cell_type": "markdown",
   "metadata": {},
   "source": [
    "R Squared"
   ]
  },
  {
   "cell_type": "code",
   "execution_count": null,
   "metadata": {},
   "outputs": [],
   "source": [
    "r_value*r_value"
   ]
  },
  {
   "cell_type": "markdown",
   "metadata": {},
   "source": [
    "<h4>Compare to HRA &lt;Go&gt; on the terminal</h4>  \n",
    "I.e. <font color='aqua'>IBM US Equity SPX Index HRA &lt;GO&gt;</font>\n",
    "<img src='img\\hra_ibm_spx.jpg'>"
   ]
  },
  {
   "cell_type": "markdown",
   "metadata": {},
   "source": [
    "<h4>Use Plotly visualization library to show daily returns scatter alongside regression line</h4>"
   ]
  },
  {
   "cell_type": "code",
   "execution_count": null,
   "metadata": {},
   "outputs": [],
   "source": [
    "#import library\n",
    "import plotly.graph_objects as go\n",
    "import plotly.express as px\n",
    "\n",
    "#initialize figure\n",
    "fig = go.Figure()\n",
    "fig.add_trace(go.Scatter(x=df_ibm_spx['SPX Index'], y=df_ibm_spx['IBM US Equity'],\n",
    "                    mode='markers', name='Daily return',))\n",
    "\n",
    "#construct regression line from its coordinates from the scipy regression coefficients\n",
    "line_x = [df_ibm_spx['SPX Index'].min(),  df_ibm_spx['SPX Index'].max()]\n",
    "line_y = [line_x[0]*slope+intercept,  line_x[1]*slope+intercept]\n",
    "\n",
    "#add regression line to this plot\n",
    "fig.add_trace(go.Scatter(x=line_x,y=line_y,name='OLS regression line', mode='lines'))\n",
    "\n",
    "#show the figure\n",
    "fig.update_layout(template='plotly_dark', xaxis_title=\"S&P\", yaxis_title=\"IBM\", yaxis_tickformat = '.2%',xaxis_tickformat = '.2%')\n",
    "fig.show()"
   ]
  },
  {
   "cell_type": "markdown",
   "metadata": {},
   "source": [
    "<h5>Use Plotly Library to plot our data and do the OLS regression all at once</h5>\n",
    "Example: <a href='https://plotly.com/python/ml-regression/'>Plotly - ML Regression in Python</a>"
   ]
  },
  {
   "cell_type": "code",
   "execution_count": null,
   "metadata": {},
   "outputs": [],
   "source": [
    "fig = px.scatter(\n",
    "    df_ibm_spx, x='SPX Index', y='IBM US Equity',\n",
    "    trendline='ols', trendline_color_override='red'\n",
    ")\n",
    "fig.update_layout(template='plotly_dark', xaxis_title=\"IBM Daily Return\", yaxis_title=\"S&P Daily Return\",yaxis_tickformat = '.2%',xaxis_tickformat = '.2%')\n",
    "fig.show()"
   ]
  },
  {
   "cell_type": "markdown",
   "metadata": {},
   "source": [
    "<h3>Example 2: Bitcoin return vs S&P 500</h3>"
   ]
  },
  {
   "cell_type": "code",
   "execution_count": null,
   "metadata": {},
   "outputs": [],
   "source": [
    "df_weekly_3yr=fetch_weekly_return_data(ticker_universe=['BTC Index','SPX Index'], lookback='-3y')\n",
    "df_weekly_3yr.head()"
   ]
  },
  {
   "cell_type": "code",
   "execution_count": null,
   "metadata": {},
   "outputs": [],
   "source": [
    "fig = px.scatter(\n",
    "    df_weekly_3yr, x='SPX Index', y='BTC Index', opacity=0.65, \n",
    "    trendline='ols', trendline_color_override='red', title='3 year weekly BTC vs SPX' \n",
    ")\n",
    "fig.update_layout(template='plotly_dark', xaxis_title=\"S&P 500\", yaxis_title=\"BTC\", yaxis_tickformat = '.1%',xaxis_tickformat = '.1%')\n",
    "fig.show()"
   ]
  },
  {
   "cell_type": "code",
   "execution_count": null,
   "metadata": {},
   "outputs": [],
   "source": [
    "df_weekly_1yr=fetch_weekly_return_data(ticker_universe=['BTC Index','SPX Index'], lookback='-13m')\n",
    "fig = px.scatter(\n",
    "    df_weekly_1yr, x='SPX Index', y='BTC Index', opacity=0.65, \n",
    "    trendline='ols', trendline_color_override='red', title='12 month weekly BTC vs SPX' \n",
    ")\n",
    "fig.update_layout(template='plotly_dark', xaxis_title=\"S&P 500\", yaxis_title=\"BTC\", yaxis_tickformat = '.1%',xaxis_tickformat = '.1%')\n",
    "fig.show()"
   ]
  },
  {
   "cell_type": "markdown",
   "metadata": {},
   "source": [
    "<h4>Overfitting Example - Polynomial Linear Regression applied to BTC versus S&P 500 returns</h4>\n",
    "\n",
    "Scikit-learn Linear Regression:\n",
    "https://scikit-learn.org/stable/modules/generated/sklearn.linear_model.LinearRegression.html\n",
    "\n",
    "Scikit-learn Polynomial Features:\n",
    "https://scikit-learn.org/stable/modules/generated/sklearn.preprocessing.PolynomialFeatures.html"
   ]
  },
  {
   "cell_type": "code",
   "execution_count": null,
   "metadata": {},
   "outputs": [],
   "source": [
    "from sklearn.preprocessing import PolynomialFeatures\n",
    "from sklearn.pipeline import make_pipeline\n",
    "from sklearn.linear_model import LinearRegression\n",
    "\n",
    "\n",
    "#Fetch weekly return data of BTC and SPX  (This is our training data set)\n",
    "df_weekly_spx_btc = fetch_weekly_return_data(ticker_universe=['BTC Index','SPX Index'], lookback='-14m')\n",
    "df_X = df_weekly_spx_btc[['SPX Index']]\n",
    "df_y = df_weekly_spx_btc[['BTC Index']]\n",
    "\n",
    "#Fit training data to a polynomial regression model using sklearn.preprocessing and sklearn.pipeline\n",
    "degree=9\n",
    "polyreg=make_pipeline(PolynomialFeatures(degree),LinearRegression())\n",
    "polyreg.fit(df_X,df_y)\n",
    "\n",
    "#Using the predicted model, get the projected values over the space of X\n",
    "X_seq = np.linspace(df_X.min(),df_X.max(),300).reshape(-1,1)\n",
    "pred_y = polyreg.predict(X_seq)\n",
    "l_pred_y = list(pred_y.reshape(-1,len(pred_y))[0])\n",
    "l_X_seq = list(X_seq.reshape(-1,len(X_seq))[0])\n",
    "df_scat = pd.DataFrame(data={'x':l_X_seq,'y':l_pred_y})\n",
    "\n",
    "#Plot the original observations (BTC weekly returns) alongside the predicted values from the (massively overfitted) model\n",
    "fig = go.Figure()\n",
    "fig.add_trace(go.Scatter(x=df_scat['x'], y=df_scat['y'],   #fitted model\n",
    "                    mode='lines',\n",
    "                    name='Predicted BTC return'))\n",
    "\n",
    "fig.add_trace(go.Scatter(x=df_X['SPX Index'].values,y=df_y['BTC Index'].values, #observed values\n",
    "                         mode='markers',\n",
    "                         name='Observed BTC weekly return'))\n",
    "\n",
    "fig.update_layout(template='plotly_dark', xaxis_title=\"S&P 500\", yaxis_title=\"BTC\", yaxis_tickformat = '%',xaxis_tickformat = '%')\n",
    "fig.show()"
   ]
  },
  {
   "cell_type": "code",
   "execution_count": null,
   "metadata": {},
   "outputs": [],
   "source": []
  },
  {
   "cell_type": "code",
   "execution_count": null,
   "metadata": {},
   "outputs": [],
   "source": [
    "polyreg.score(X=df_X['SPX Index'].values.reshape(-1,1), y=df_y['BTC Index'])"
   ]
  },
  {
   "cell_type": "markdown",
   "metadata": {},
   "source": [
    "<h3>Next Example: Bond Spread vs Duration</h3>"
   ]
  },
  {
   "cell_type": "code",
   "execution_count": null,
   "metadata": {},
   "outputs": [],
   "source": [
    "df_bond_spreads = retrieve_bond_spread_data()\n",
    "df_bond_spreads.head()"
   ]
  },
  {
   "cell_type": "code",
   "execution_count": null,
   "metadata": {},
   "outputs": [],
   "source": [
    "bqv.ScatterPlot(df=df_bond_spreads,x='duration',y='spread').show()"
   ]
  },
  {
   "cell_type": "markdown",
   "metadata": {},
   "source": [
    "<h5>Non-linear regression using a Loess Regression (\"moving regression\")</h5>\n",
    "Weighted regressions over localized subsets of data\n",
    "<br><b>Advantage</b>: fits this data better than a line does\n",
    "<br><b>Disadvantage</b>: more complicated to represent"
   ]
  },
  {
   "cell_type": "code",
   "execution_count": null,
   "metadata": {},
   "outputs": [],
   "source": [
    "fig = px.scatter(x=df_bond_spreads['duration']/365,y=df_bond_spreads['spread'],trendline='lowess', trendline_color_override='cyan')\n",
    "fig.update_layout(template='plotly_dark', xaxis_title=\"Duration\", yaxis_title=\"Spread\", yaxis_tickformat = '',xaxis_tickformat = '')\n",
    "fig"
   ]
  },
  {
   "cell_type": "markdown",
   "metadata": {},
   "source": [
    "<h5>Ordinary Least Squares Regression</h5>"
   ]
  },
  {
   "cell_type": "code",
   "execution_count": null,
   "metadata": {},
   "outputs": [],
   "source": [
    "fig = px.scatter(x=df_bond_spreads['duration'],y=df_bond_spreads['spread'],trendline='ols', trendline_color_override='cyan')\n",
    "fig.update_layout(template='plotly_dark', xaxis_title=\"Duration\", yaxis_title=\"Spread\", yaxis_tickformat = '',xaxis_tickformat = '')\n",
    "fig\n"
   ]
  },
  {
   "cell_type": "markdown",
   "metadata": {},
   "source": [
    "Fit the OLS model, and see the coefficients Slope and Intercept"
   ]
  },
  {
   "cell_type": "code",
   "execution_count": null,
   "metadata": {},
   "outputs": [],
   "source": [
    "#Fit the OLS model using sklearn.linear_model.LinearRegression\n",
    "X = df_bond_spreads.duration.values.reshape(-1, 1)\n",
    "y = df_bond_spreads.spread.values\n",
    "model = LinearRegression()\n",
    "model.fit(X,y)\n",
    "\n",
    "#Model Coefficients\n",
    "print('Slope: {:.4f}'.format(model.coef_[0]))\n",
    "print('Intercept: {:.4f}'.format(model.intercept_))"
   ]
  },
  {
   "cell_type": "markdown",
   "metadata": {},
   "source": [
    "Use the model to predict the spread of a bond with hypothetical duration of 7"
   ]
  },
  {
   "cell_type": "code",
   "execution_count": null,
   "metadata": {},
   "outputs": [],
   "source": [
    "model.predict([[7]])"
   ]
  },
  {
   "cell_type": "markdown",
   "metadata": {},
   "source": [
    "<h5>Residuals: the difference between observed data and the data predicted by our model</h5>\n",
    "Note any patterns in the residuals. To make a good regression, the residuals should randomly distributed, like random noise. If there is a predictable bias in the residuals (such as if all the points to the far right are consistently below the predicted levels, thus all having negative residuals), that will translate to a biased model."
   ]
  },
  {
   "cell_type": "code",
   "execution_count": null,
   "metadata": {},
   "outputs": [],
   "source": [
    "#Compute residuals as observed bond spreads minus the bond spreads predicted by the model\n",
    "residuals = y - model.predict(X)\n",
    "\n",
    "#Construct regression line from the model\n",
    "x_vals_line = [df_bond_spreads.duration.min(),df_bond_spreads.duration.max()]\n",
    "y_vals_line = model.predict(np.array(x_vals_line).reshape(-1,1)).tolist()\n",
    "\n",
    "#Plot\n",
    "fig = go.Figure()\n",
    "fig.add_trace(go.Scatter(x=df_bond_spreads['duration'].tolist(),y=df_bond_spreads['spread'].tolist(),mode='markers',name='Bond Spread'))\n",
    "fig.add_trace(go.Scatter(x=x_vals_line, y=y_vals_line, name='Regression line', mode='lines'))\n",
    "fig.add_trace(go.Bar(x=df_bond_spreads['duration'].tolist(),y=residuals.tolist(),width=0.09, name='Residuals'))\n",
    "fig.update_layout(template='plotly_dark', xaxis_title=\"Duration\", yaxis_title=\"Spread\", yaxis_tickformat = '',xaxis_tickformat = '')\n",
    "fig.show()"
   ]
  },
  {
   "cell_type": "markdown",
   "metadata": {},
   "source": [
    "<h5>In addition to Bond Spread and Duration, also retrieve the issuer's EBITDA Margin and Debt to Common Equity Ratio</h5>"
   ]
  },
  {
   "cell_type": "code",
   "execution_count": null,
   "metadata": {},
   "outputs": [],
   "source": [
    "df_extra_bond = retrieve_additional_bond_spread_data()\n",
    "df_extra_bond.head()"
   ]
  },
  {
   "cell_type": "markdown",
   "metadata": {},
   "source": [
    "Some of these columns have null data"
   ]
  },
  {
   "cell_type": "code",
   "execution_count": null,
   "metadata": {},
   "outputs": [],
   "source": [
    "df_extra_bond.count()"
   ]
  },
  {
   "cell_type": "markdown",
   "metadata": {},
   "source": [
    "<h5><b>Outliers</b></h5>\n",
    "\n",
    "- We can get remove of any bonds that have missing data\n",
    "- We can fill in missing data with an educated guess"
   ]
  },
  {
   "cell_type": "markdown",
   "metadata": {},
   "source": [
    "If we remove any bond that has any null data, we have fewer data points to train the model"
   ]
  },
  {
   "cell_type": "code",
   "execution_count": null,
   "metadata": {},
   "outputs": [],
   "source": [
    "df_extra_bond.dropna().count()"
   ]
  },
  {
   "cell_type": "markdown",
   "metadata": {},
   "source": [
    "Separate the data into two partitions -- training data and test data"
   ]
  },
  {
   "cell_type": "code",
   "execution_count": null,
   "metadata": {},
   "outputs": [],
   "source": [
    "i_max_of_train_data = math.ceil(len(df_extra_bond.dropna())/2)\n",
    "df_train_data = df_extra_bond.dropna().iloc[0:i_max_of_train_data]\n",
    "df_train_data.count()"
   ]
  },
  {
   "cell_type": "code",
   "execution_count": null,
   "metadata": {},
   "outputs": [],
   "source": [
    "df_test_data = df_extra_bond.dropna().iloc[i_max_of_train_data:]\n",
    "df_test_data.dropna().count()"
   ]
  },
  {
   "cell_type": "markdown",
   "metadata": {},
   "source": [
    "<h4>Multivariate Regression on Z_Spread against three features: Duration, Amount Outstanding, and Debt to Common Equity </h4>"
   ]
  },
  {
   "cell_type": "code",
   "execution_count": null,
   "metadata": {},
   "outputs": [],
   "source": [
    "df_train_data.head()"
   ]
  },
  {
   "cell_type": "code",
   "execution_count": null,
   "metadata": {},
   "outputs": [],
   "source": [
    "#Multivariate Regression on Z_Spread against duration, Amount Outstanding, and Debt to Common Equity Ratio\n",
    "y = df_train_data['Z_spread']\n",
    "x = df_train_data[['duration','AmtOut','Debt_to_Com_Eqy']]\n",
    "\n",
    "#Define multiple linear regression model (using sklearn library)\n",
    "linear_regression = LinearRegression()\n",
    "\n",
    "#Fit the multivariate linear regression model\n",
    "linear_regression.fit(x,y)"
   ]
  },
  {
   "cell_type": "markdown",
   "metadata": {},
   "source": [
    "Estimated coefficients of our model"
   ]
  },
  {
   "cell_type": "code",
   "execution_count": null,
   "metadata": {},
   "outputs": [],
   "source": [
    "linear_regression.coef_"
   ]
  },
  {
   "cell_type": "markdown",
   "metadata": {},
   "source": [
    "R squared of the fit on training data"
   ]
  },
  {
   "cell_type": "code",
   "execution_count": null,
   "metadata": {},
   "outputs": [],
   "source": [
    "linear_regression.score(x,y)"
   ]
  },
  {
   "cell_type": "markdown",
   "metadata": {},
   "source": [
    "Use our model to predict the z-spread for a hypothetical bond with duration 10, Amount Outstanding of 500M, and Debt to Equity of 1000"
   ]
  },
  {
   "cell_type": "code",
   "execution_count": null,
   "metadata": {},
   "outputs": [],
   "source": [
    "linear_regression.predict([[10,500,1000]])"
   ]
  },
  {
   "cell_type": "markdown",
   "metadata": {},
   "source": [
    "<h5>Compute multivariate regression on the three features (Duration, Amount Outstanding, and Debt to Common Equity), to get a predicted Z spread for each bond in test data set</h5>\n",
    "Note that we fitted the model on the <b>training data set</b> and we then apply the model to the separate <b>test data set</b>\n"
   ]
  },
  {
   "cell_type": "code",
   "execution_count": null,
   "metadata": {},
   "outputs": [],
   "source": [
    "df_sub_test = df_test_data[['duration','AmtOut','Debt_to_Com_Eqy','Z_spread']].copy()\n",
    "\n",
    "#put test data into correct configuration to feed into model\n",
    "l_features=['duration','AmtOut','Debt_to_Com_Eqy']\n",
    "num_features =3\n",
    "l_lists = list()\n",
    "for i in range(len(df_sub_test)):\n",
    "    l_i = list()\n",
    "    for i_feat in range(num_features):\n",
    "        l_i.append(df_sub_test.iloc[i].loc[l_features[i_feat]])\n",
    "    l_lists.append(l_i)\n",
    "\n",
    "#predict values on test data set\n",
    "predicted_vals = linear_regression.predict(l_lists)\n",
    "df_sub_test = df_sub_test.assign(predicted_Z_spread=predicted_vals)\n",
    "\n",
    "df_sub_test.tail()"
   ]
  },
  {
   "cell_type": "markdown",
   "metadata": {},
   "source": [
    "Plot the Predicted Z Spread and Observed Z Spread versus Duration\n"
   ]
  },
  {
   "cell_type": "code",
   "execution_count": null,
   "metadata": {},
   "outputs": [],
   "source": [
    "fig = go.Figure()\n",
    "\n",
    "#duration_plot\n",
    "df = df_sub_test.sort_values('duration')\n",
    "fig.add_trace(go.Scatter(x=df['duration'],y=df['Z_spread'],mode='markers',name='Observed Z Spread'))\n",
    "fig.add_trace(go.Scatter(x=df['duration'],y=df['predicted_Z_spread'],mode='markers',name='Predicted Z Spread'))\n",
    "fig.update_layout(template='plotly_dark', xaxis_title=\"Duration\", yaxis_title=\"Spread\", yaxis_tickformat = '',xaxis_tickformat = '')\n",
    "fig.show()"
   ]
  },
  {
   "cell_type": "code",
   "execution_count": null,
   "metadata": {},
   "outputs": [],
   "source": [
    "#Reshape data to produce a faceted plot\n",
    "df_melted = df_sub_test.melt(id_vars=['Z_spread','predicted_Z_spread'])\n",
    "\n",
    "# Show faceted figure, with a plot for each of our features\n",
    "fig = px.scatter(data_frame=df_melted,x='value',y=['Z_spread','predicted_Z_spread'], facet_col='variable', template='plotly_dark')\n",
    "fig.update_xaxes(matches=None)\n",
    "fig.show()"
   ]
  },
  {
   "cell_type": "markdown",
   "metadata": {},
   "source": [
    "<h3>Additional Resources</h3>\n",
    "\n",
    "<h4>Python Libraries</h4>\n",
    "\n",
    "SciPy Linear Regression:\n",
    "https://docs.scipy.org/doc/scipy/reference/generated/scipy.stats.linregress.html\n",
    "\n",
    "Scikit-learn Linear Regression:\n",
    "https://scikit-learn.org/stable/modules/generated/sklearn.linear_model.LinearRegression.html\n",
    "\n",
    "Scikit-learn ML Packages:\n",
    "https://scikit-learn.org/stable/supervised_learning.html\n",
    "\n",
    "Ridge Regression in Scikit-learn (Regularization):\n",
    "https://scikit-learn.org/stable/modules/generated/sklearn.linear_model.Ridge.html\n",
    "\n",
    "ML Regression in Plotly:\n",
    "https://plotly.com/python/ml-regression/\n",
    "\n",
    "<h4>Helpful Blog Posts</h4>\n",
    "\n",
    "A Complete Machine Learning Project Walk-Through in Python:\n",
    "https://towardsdatascience.com/a-complete-machine-learning-walk-through-in-python-part-one-c62152f39420\n",
    "\n",
    "Supervised Learning - Basics of Linear Regression: \n",
    "https://towardsdatascience.com/supervised-learning-basics-of-linear-regression-1cbab48d0eba"
   ]
  },
  {
   "cell_type": "markdown",
   "metadata": {},
   "source": [
    "<h4>Regression from scratch for IBM versus SPX</h4>\n",
    "\n",
    "Website reference: <br>\n",
    "https://towardsdatascience.com/linear-regression-from-scratch-cd0dee067f72 </br>\n",
    "https://machinelearningmastery.com/implement-simple-linear-regression-scratch-python/"
   ]
  },
  {
   "cell_type": "code",
   "execution_count": null,
   "metadata": {},
   "outputs": [],
   "source": [
    "##Regression from Scratch for IBM (y) versus SPX (X)\n",
    "df_ibm_spx = fetch_daily_return_data(['IBM US Equity','SPX Index'])\n",
    "df_ibm_spx.tail()"
   ]
  },
  {
   "cell_type": "code",
   "execution_count": null,
   "metadata": {},
   "outputs": [],
   "source": [
    "X = df_ibm_spx['SPX Index'].values\n",
    "y = df_ibm_spx['IBM US Equity'].values\n",
    "\n",
    "#Calculate mean of dependent variable (IBM) returns and independendent variable (SPX) returns\n",
    "x_mean = np.mean(X)\n",
    "y_mean = np.mean(y)\n",
    "\n",
    "#total N\n",
    "n = len(X)\n",
    "\n",
    "#calculate the coefficients by calculating the squared distance\n",
    "numerator = 0\n",
    "denominator = 0\n",
    "\n",
    "for i in range(n):\n",
    "    numerator += (X[i] - x_mean) * (y[i] - y_mean)\n",
    "    denominator += (X[i] - x_mean) ** 2\n",
    "    \n",
    "slope = numerator / denominator\n",
    "slope"
   ]
  },
  {
   "cell_type": "code",
   "execution_count": null,
   "metadata": {},
   "outputs": [],
   "source": [
    "intercept = y_mean - (slope * x_mean)\n",
    "intercept"
   ]
  },
  {
   "cell_type": "markdown",
   "metadata": {},
   "source": [
    "Calculate the R Squared"
   ]
  },
  {
   "cell_type": "code",
   "execution_count": null,
   "metadata": {},
   "outputs": [],
   "source": [
    "sumofsquares = 0 \n",
    "sumofresiduals = 0\n",
    "\n",
    "#sum total squares over some of total residuals\n",
    "for i in range(n):\n",
    "    predicted_y = intercept + slope * X[i]\n",
    "    sumofsquares += (y[i] - y_mean) ** 2\n",
    "    sumofresiduals += (y[i] - predicted_y) ** 2\n",
    "    \n",
    "r2_score = 1 - (sumofresiduals/sumofsquares)\n",
    "r2_score"
   ]
  }
 ],
 "metadata": {
  "kernelspec": {
   "display_name": "Python 3 (sandboxed)",
   "language": "python",
   "name": "python3"
  },
  "language_info": {
   "codemirror_mode": {
    "name": "ipython",
    "version": 3
   },
   "file_extension": ".py",
   "mimetype": "text/x-python",
   "name": "python",
   "nbconvert_exporter": "python",
   "pygments_lexer": "ipython3",
   "version": "3.7.1"
  }
 },
 "nbformat": 4,
 "nbformat_minor": 4
}
