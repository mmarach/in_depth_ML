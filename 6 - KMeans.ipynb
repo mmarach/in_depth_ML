{
 "cells": [
  {
   "cell_type": "markdown",
   "id": "521b29a7-e667-4acb-b880-25b628b56dcd",
   "metadata": {},
   "source": [
    "<a></a>\n",
    "<div style=\"border-radius: 10px; border: 1px solid #0F9CF5; background-color: #232323; white-space: nowrap;\">\n",
    "    <p style=\"margin-top: -10px; margin-bottom: 0px; margin-left: 10px; font-size: 1.15em; padding: 10px; overflow: hidden;\">\n",
    "        <span style=\"color: orange; font-size: 2em;\">&#9432;  </span>\n",
    "        Click the <span style=\"color: orange;\">Run All</span> <img style=\"max-height: 1.5em; border: 1px solid orange;\" src=\"../img/RunAll.png\" /> button in the toolbar above to run the code in this notebook \n",
    "    </p>\n",
    "</div>"
   ]
  },
  {
   "cell_type": "markdown",
   "id": "f3321682-7c66-43b2-aed8-499f7c5aab7e",
   "metadata": {},
   "source": [
    "<a id=\"document-top\"></a>\n",
    "# BQuant Machine Learning Series Part 7 - K - Means Clustering\n",
    "\n",
    "\n",
    "<a href='https://onlinexperiences.com/scripts/Server.nxp?LASCmd=AI:4;F:QS!10100&ShowUUID=66209920-766E-492D-9C3D-914AE5426CC6'>Link to Episode 7 - ML Series Video - K-Means Clustering</a>"
   ]
  },
  {
   "cell_type": "code",
   "execution_count": null,
   "id": "09b306b9-2fe7-433c-81cf-76748373e93b",
   "metadata": {},
   "outputs": [],
   "source": [
    "import numpy as np\n",
    "import pandas as pd\n",
    "import bqviz\n",
    "import ipywidgets as widgets \n",
    "from scipy.stats import mstats\n",
    "from sklearn.cluster import KMeans\n",
    "import bql"
   ]
  },
  {
   "cell_type": "markdown",
   "id": "d2e6cf8e-bdb7-425b-adf5-b9c9f297c14a",
   "metadata": {},
   "source": [
    "<p>\n",
    "    In this notebook, we will explore K-Means Clustering:<br>\n",
    "    <ul>\n",
    "        <li><a href=\"#definition\"> What is K-Means Clustering? </li>\n",
    "        <li><a href=\"#algorithm\">Algorithm</a></li>\n",
    "        <li><a href=\"#application\">K-Means Clustering Application: Building a diversified portfolio</a></li>\n",
    "    </ul>\n",
    "</p>"
   ]
  },
  {
   "cell_type": "markdown",
   "id": "ee058527-12bc-49fd-831f-75c0fa9d3415",
   "metadata": {},
   "source": [
    "<a name=\"definition\"></a>\n",
    "<h2><span style=\"color:orange\">What is K-Means Clustering?  </span></h2>\n",
    "<p>\n",
    "K-Means Clustering is a form of unsupervised ML. It is considered as one of the simplest and popular unsupervised machine learning techniques.\n",
    "Unsupervised algorithms use vectors on data points. These data points are not labeled or classified. Our goal is to discover hidden patterns and group the data points in a sensible way based on similarity on features. Each group of datapoints is a cluster and each cluster will have a center."
   ]
  },
  {
   "cell_type": "markdown",
   "id": "499452a1-23d3-4699-b488-7e3d251d1e8f",
   "metadata": {},
   "source": [
    "<img src=\"img/k_means.png\">"
   ]
  },
  {
   "cell_type": "markdown",
   "id": "872fcb0c-529b-4b0c-81ed-06a2043f4494",
   "metadata": {},
   "source": [
    "<a href=\"https://www.analyticsvidhya.com/blog/2021/04/k-means-clustering-simplified-in-python/\">Source : Analytics Vidhya </a>"
   ]
  },
  {
   "cell_type": "markdown",
   "id": "6d7dc3a5-12c5-43a2-b2a6-10c5876c08de",
   "metadata": {},
   "source": [
    "### Examples"
   ]
  },
  {
   "cell_type": "markdown",
   "id": "9e681937-9c3e-44a1-9ec8-91342ae67661",
   "metadata": {},
   "source": [
    "#### Row data"
   ]
  },
  {
   "cell_type": "markdown",
   "id": "ede9a4af-e2b2-4c5d-8ace-ba14e0435bc6",
   "metadata": {},
   "source": [
    "<img src=\"img/k_means_row_data.png\">"
   ]
  },
  {
   "cell_type": "markdown",
   "id": "97eae8e2-b0c2-4661-9456-d330e592686b",
   "metadata": {},
   "source": [
    "#### Good Clustering"
   ]
  },
  {
   "cell_type": "markdown",
   "id": "0516bec4-f0d9-4ec0-86ae-29cc1c961398",
   "metadata": {},
   "source": [
    "<img src=\"img/k_means_good_clustering.png\" >"
   ]
  },
  {
   "cell_type": "markdown",
   "id": "6fefd01a-7707-43a2-83ae-92a264d0167c",
   "metadata": {},
   "source": [
    "#### Naive Clustering"
   ]
  },
  {
   "cell_type": "markdown",
   "id": "d5640295-e080-44fb-aa4e-c19d122aadaa",
   "metadata": {},
   "source": [
    "<img src=\"img/k_means_bad_clustering.png\" >"
   ]
  },
  {
   "cell_type": "markdown",
   "id": "5f677121-ffba-4a5c-8f6d-86259aad5316",
   "metadata": {},
   "source": [
    "Source: Oreilly.com : Clustering and Unsupervised Learning"
   ]
  },
  {
   "cell_type": "markdown",
   "id": "f348eeee-e1b0-4201-80c0-be46be4a01a1",
   "metadata": {},
   "source": [
    "<a name=\"algorithm\"></a>\n",
    "<h2><span style=\"color:orange\">Algorithm </span></h2>\n",
    "\n",
    "* Pre-process the data (Clean it, Scale it, Standardize it)\n",
    "* Select K\n",
    "* Pick K Centers \n",
    "* Repeat until there is no change of the centroid positions: <BR>\n",
    "   1) Compute the distance between data point (vector x) and all centroids. (Generally, we use the euclidian distance) $$Distance(k)=\\sqrt{\\sum \\limits _{i}(x_{i} - c_{i}) ^2} \\; for \\, k=1 \\, to \\, K $$ \n",
    "   2) Assign each data point to the closest cluster (centroid) $$\\underset{k}{\\operatorname{argmin}} Distance(k)$$\n",
    "   3) Compute the centroids for the clusters by taking the average of the all data points that belong to each cluster.\n",
    " "
   ]
  },
  {
   "cell_type": "markdown",
   "id": "d5d567f3-45d4-42b8-a414-0994187c01f8",
   "metadata": {},
   "source": [
    " <img src=\"img/k_means_algorithm.png\"  width=\"40%\" >"
   ]
  },
  {
   "cell_type": "markdown",
   "id": "c065c495-ac0b-4462-b72d-723eb5845492",
   "metadata": {},
   "source": [
    "<a href=\"https://stanford.edu/~cpiech/cs221/handouts/kmeans.html\">Source : Stanford Edu ( K-Means) </a>\n"
   ]
  },
  {
   "cell_type": "markdown",
   "id": "f7ee2ca7-70cf-44bc-9c8c-a55f833aba1f",
   "metadata": {},
   "source": [
    "<a name=\"application\"></a>\n",
    "<h2><span style=\"color:orange\">K-Means Clustering Application: Building a diversified portfolio </span></h2>\n",
    "\n",
    "We are going to use K-Means Clustering to build a diversified portfolio. Two ratios will be used in order to cluster the data: <BR>\n",
    "<ul>\n",
    "    <li> <code>asset_turnover:</code> Amount of sales or revenues generated per dollar of assets. (Sales Revenues/Total Assets)</li>\n",
    "    <li><code>return_on_asset:</code> Indicator of how profitable company is relative to its assets (Total Income /Total Assets)</li>\n",
    "\n",
    "</ul>\n",
    "The idea is to create clusters with similar characteristics for the components of S&P500 using these two factors at the end of the 2021 Q1. From each cluster, we will take the stocks with highest risk adjusted momentum to build our portfolio. <br><br>\n",
    "   After building this portfolio, we will run it for 2021 Q2 and compare it to the return of S&P 500.<br><br>\n",
    "    \n",
    "PS: Please note that this analysis is done using only two factors which leads to a two dimensional problem. We are using a two dimensional problem to demonstrate the concept and understand the problem. Multiple factors can be used as well. If you want to go down this road, you may want to use <a href=\"https://scikit-learn.org/stable/modules/generated/sklearn.decomposition.PCA.html\">Principal Component Analysis</a> to lower the number of dimensions. <br><br>\n",
    "   \n",
    "We will proceed with the following steps: <br><b>K-Means Clustering : </b><br>\n",
    "\n",
    "    1. Get the data: asset_turnover and return_on_asset for the end of 2021 Q1 for members of S&P500.\n",
    "    2. Analyse the data, clean it and vizualize it.\n",
    "    3. Choose K.\n",
    "    4. Analyse the clustering results.\n",
    "<b>Portfolio Construction : </b><br>\n",
    "    \n",
    "    1. From each cluster, choose the stocks with the highest risk adjusted momentum. \n",
    "    2. Run the portfolio return for the 2021-Q2"
   ]
  },
  {
   "cell_type": "markdown",
   "id": "88a7c10a-988c-4174-b86d-98f74913b13b",
   "metadata": {},
   "source": [
    "----\n",
    "Let's apply the steps defined above:\n",
    "## K-Means Clustering \n",
    "### <I>1. Get the data: asset_turnover and return_on_asset for the end of 2021 Q1 for members of S&P500</I>"
   ]
  },
  {
   "cell_type": "code",
   "execution_count": null,
   "id": "280f0a31-865f-4be8-acc5-647c841a848d",
   "metadata": {},
   "outputs": [],
   "source": [
    "bq = bql.Service()\n",
    "\n",
    "as_of_date='2021-03-30'\n",
    "\n",
    "asset_turnover= bq.func.dropna(bq.data.asset_turnover(fa_period_type='Q',fill='prev',as_of_date=as_of_date)['Value'])\n",
    "return_on_asset =bq.func.dropna(bq.data.RETURN_ON_ASSET(fa_period_type='Q',fill='prev',as_of_date=as_of_date)['Value']/100)\n",
    "\n",
    "#  We are requesting the members of SPY US Equity since some users don't have access to the members of S&P 500. \n",
    "#  If you have access to the members of S&P500 you can request that direcly using bql_universe=bq.univ.members('SPX Index')\n",
    "bql_universe = bq.univ.members('SPY US Equity',type='HOLDINGS')\n",
    "\n",
    "bql_request = bql.Request(bql_universe, {\n",
    "                                         'asset_turnover':asset_turnover,\n",
    "                                         'return_on_asset':return_on_asset}\n",
    "                         )\n",
    "bql_response = bq.execute(bql_request)\n",
    "data=bql.combined_df(bql_response)\n",
    "data.head()"
   ]
  },
  {
   "cell_type": "markdown",
   "id": "6fdb7bb7-1fdd-4725-96e0-10f89c29e09d",
   "metadata": {},
   "source": [
    "### <I>2. Analyse the data, clean it and visualize it.</I>"
   ]
  },
  {
   "cell_type": "code",
   "execution_count": null,
   "id": "f4496240-ce79-4911-ad0f-12c860720f1b",
   "metadata": {},
   "outputs": [],
   "source": [
    "data.shape"
   ]
  },
  {
   "cell_type": "code",
   "execution_count": null,
   "id": "99dca72a-2b35-49b5-bbf4-e142b23d7e6a",
   "metadata": {},
   "outputs": [],
   "source": [
    "data.describe()"
   ]
  },
  {
   "cell_type": "code",
   "execution_count": null,
   "id": "0fdf6b35-7066-49e3-ae8f-7fcb5d414881",
   "metadata": {},
   "outputs": [],
   "source": [
    "# Make a copy of the original data before starting our data pre processing\n",
    "original_data=data.copy()"
   ]
  },
  {
   "cell_type": "code",
   "execution_count": null,
   "id": "1153b2c3-197c-4cc6-9715-ec20a1aed486",
   "metadata": {},
   "outputs": [],
   "source": [
    "#Check Na Values\n",
    "data[data['asset_turnover'].isna() | data['return_on_asset'].isna()]"
   ]
  },
  {
   "cell_type": "code",
   "execution_count": null,
   "id": "358a96fe-cf01-4c78-8334-541b85168b6f",
   "metadata": {},
   "outputs": [],
   "source": [
    "# Dropna value \n",
    "data=data.dropna()\n",
    "#remove Partial Error Column\n",
    "data.drop('Partial Errors',axis=1,inplace=True)\n",
    "data.head()"
   ]
  },
  {
   "cell_type": "code",
   "execution_count": null,
   "id": "d0bb3786-7af7-461f-99ab-7830394b2b76",
   "metadata": {},
   "outputs": [],
   "source": [
    "# Viuzualize data\n",
    "plot=bqviz.InteractiveScatterPlot(data,title='Original Data', reg_line=False)\n",
    "plot.x_control.value =  'asset_turnover' \n",
    "plot.y_control.value = 'return_on_asset'\n",
    "plot.show()"
   ]
  },
  {
   "cell_type": "code",
   "execution_count": null,
   "id": "d432c807-a5a5-4e82-92d7-0b82057db73a",
   "metadata": {},
   "outputs": [],
   "source": [
    "# Both asset_turnover and return_on_asset are ratios. They are already scaled to the company size.\n",
    "# We can use Winsorization to transforms data by limiting extreme values, typically by setting all outliers to a specified percentile of data\n",
    "X =np.asarray([np.asarray(data['asset_turnover']),np.asarray(data['return_on_asset'])])\n",
    "X = mstats.winsorize(X, limits = [0.05, 0.05])\n",
    "data=pd.DataFrame(X, index=['asset_turnover','return_on_asset'], columns=data.index).T\n",
    "data.head()"
   ]
  },
  {
   "cell_type": "code",
   "execution_count": null,
   "id": "eea5662a-8ea8-466e-a8bd-f2432f0feacd",
   "metadata": {},
   "outputs": [],
   "source": [
    "# Plot winsorized data Vs Original Data\n",
    "plot_winsorized=bqviz.InteractiveScatterPlot(data,title='Winsorized Data', reg_line=False)\n",
    "plot_winsorized.x_control.value =  'asset_turnover' \n",
    "plot_winsorized.y_control.value = 'return_on_asset'\n",
    "widgets.HBox([plot_winsorized.show(),plot.show()])"
   ]
  },
  {
   "cell_type": "markdown",
   "id": "504a1234-3218-45e2-ab86-fe4826dc8d1a",
   "metadata": {},
   "source": [
    "### <I>3. Choose K</I>"
   ]
  },
  {
   "cell_type": "markdown",
   "id": "0ff0a1d6-d2c3-4ead-87a5-dafcc8f764a1",
   "metadata": {},
   "source": [
    "The two most commons methods to choose K ( the appropriate number of clusters) are :\n",
    "    <ul>\n",
    "        <li>The silhouette Coefficient</li>\n",
    "        <li>The Elbow Method </li>\n",
    "    </ul>\n",
    "\n",
    "The silhouette coefficient is a value that ranges between -1 and 1. It quantifies how well a data point fits into its assigned cluster based on two factors:\n",
    "1. How close the data point is to other points in the cluster\n",
    "2. How far away the data point is from points in other clusters\n",
    "\n",
    "Larger numbers for Silhouette coefficient indicate that samples are closer to their clusters than they are to other clusters.\n",
    "\n",
    "The elbow method is used by running several k-means, increment k with each iteration and record the SSE ( Sum Of Squared Error) <br>\n",
    "$$SSE= Sum  \\; Of  \\; Euclidean  \\; Squared  \\; Distances  \\; of  \\; each  \\; point \\; to \\; its  \\; closest \\; centroid $$\n",
    "After that , we plot SSE as a function of the number of clusters. SSE continues to decrease as you increase k. As more centroids are added, the distance from each point to its closest centroid will decrease.\n",
    "There’s a sweet spot where the SSE curve starts to bend known as the elbow point. The x-value of this point is thought to be a reasonable trade-off between error and number of clusters. <br>\n",
    "\n",
    "<a herf=\"https://realpython.com/k-means-clustering-python/#choosing-the-appropriate-number-of-clusters\"> (Source)<a/>\n",
    "    \n",
    "In this example, we will use the Elbow Method to determine K:"
   ]
  },
  {
   "cell_type": "code",
   "execution_count": null,
   "id": "6057b120-235d-4385-8bcd-581aefdbc0cf",
   "metadata": {},
   "outputs": [],
   "source": [
    "distorsions = []\n",
    "clusters_iterations=range(2, 20)\n",
    "for k in clusters_iterations:\n",
    "    k_means = KMeans(n_clusters=k)\n",
    "    k_means.fit(data)\n",
    "    distorsions.append(k_means.inertia_)"
   ]
  },
  {
   "cell_type": "code",
   "execution_count": null,
   "id": "d491b8e0-9fa9-4436-b0a1-83d3f46cb341",
   "metadata": {},
   "outputs": [],
   "source": [
    "elbow_curve_data=pd.DataFrame(zip(clusters_iterations,distorsions),columns=['Cluster','SSE']).set_index('Cluster')\n",
    "elbow_curve_data.head()"
   ]
  },
  {
   "cell_type": "code",
   "execution_count": null,
   "id": "c8bfb842-2bbe-476b-a18d-f458aadb8fef",
   "metadata": {},
   "outputs": [],
   "source": [
    "plot_elbow=bqviz.LinePlot(elbow_curve_data,title='Elbow Curve',x_label='Clusters').set_style()\n",
    "plot_elbow.show()"
   ]
  },
  {
   "cell_type": "code",
   "execution_count": null,
   "id": "b32ed947-1efc-4e8a-a10c-4598b6c604f8",
   "metadata": {},
   "outputs": [],
   "source": [
    "# get elbow programmatically\n",
    "%install kneed 0.7.0\n",
    "from kneed import KneeLocator \n",
    "kl = KneeLocator(\n",
    "clusters_iterations, distorsions, curve=\"convex\", direction=\"decreasing\")\n",
    "elbow=kl.elbow\n",
    "\n",
    "print('Elbow = {}'.format(elbow))"
   ]
  },
  {
   "cell_type": "markdown",
   "id": "0d5b45f2-d08e-4532-ac29-fef3674ad77a",
   "metadata": {},
   "source": [
    "### <I>4. Analyse the clustering results</I>"
   ]
  },
  {
   "cell_type": "code",
   "execution_count": null,
   "id": "a43d94b5-5864-4dd6-ac35-e94d71eb9507",
   "metadata": {},
   "outputs": [],
   "source": [
    "# We apply KMeans for the Elbow's value  ( in this case = 5)\n",
    "kmeans = KMeans(n_clusters=elbow)\n",
    "kmeans.fit(data)\n",
    "y_kmeans = kmeans.predict(data)\n",
    "df_kmeans = data.copy()\n",
    "df_kmeans['cluster']=y_kmeans.astype(str)"
   ]
  },
  {
   "cell_type": "code",
   "execution_count": null,
   "id": "02af4290-3a4f-4610-bdf4-3f7118edee9b",
   "metadata": {},
   "outputs": [],
   "source": [
    "# Vizaualize the results\n",
    "plot_kmeans=bqviz.InteractiveScatterPlot(df = df_kmeans,color_field='cluster',scheme='Red', title='K-Means Clustering')\n",
    "plot_kmeans.x_control.value =  'asset_turnover' \n",
    "plot_kmeans.y_control.value = 'return_on_asset'\n",
    "plot_kmeans.show()"
   ]
  },
  {
   "cell_type": "code",
   "execution_count": null,
   "id": "4f8a74f7-7b8f-4a58-8a6d-547d55a877c5",
   "metadata": {},
   "outputs": [],
   "source": [
    "# see the centers \n",
    "clusters_centers_df=pd.DataFrame(kmeans.cluster_centers_,columns=['asset_turnover','return_on_asset'])\n",
    "clusters_centers_df"
   ]
  },
  {
   "cell_type": "code",
   "execution_count": null,
   "id": "8cfab270-b5bd-401d-b708-e4abfe4a6c77",
   "metadata": {},
   "outputs": [],
   "source": [
    "# See the clustering by Company \n",
    "clustering_result=pd.DataFrame(zip(y_kmeans,data.index),columns=['Cluster','Company'])\n",
    "clustering_result.set_index('Cluster').head()"
   ]
  },
  {
   "cell_type": "code",
   "execution_count": null,
   "id": "941826ff-f016-4f07-baa8-926deb98ca90",
   "metadata": {},
   "outputs": [],
   "source": [
    "for cluster_num in list(clustering_result.set_index('Cluster').index.unique()):\n",
    "    print (clustering_result.set_index('Cluster').loc[cluster_num].head())"
   ]
  },
  {
   "cell_type": "code",
   "execution_count": null,
   "id": "11581ac6-2f19-42b8-83d7-f0820d5285e1",
   "metadata": {},
   "outputs": [],
   "source": [
    "# Enrich Centers Df with the number of elements by Cluster\n",
    "clusters_centers_df['Count']=clustering_result['Cluster'].value_counts().to_frame().rename(columns={'Cluster':'Count'})['Count']\n",
    "clusters_centers_df.head()"
   ]
  },
  {
   "cell_type": "code",
   "execution_count": null,
   "id": "6df8e0fd-c28f-43b8-b452-17cd0d6d6349",
   "metadata": {},
   "outputs": [],
   "source": [
    "# Vizualize Count of Elements by Cluster \n",
    "plot_cluster_count=bqviz.BarPlot(clusters_centers_df['Count'].to_frame()).set_style()\n",
    "plot_cluster_count.show()"
   ]
  },
  {
   "cell_type": "markdown",
   "id": "64a13610-7ed0-4d69-b3e7-6bed4912f8f7",
   "metadata": {},
   "source": [
    "## Portfolio Construction\n",
    "### <I>1. From each cluster, choose the stocks with the highest Risk Adjusted Momentum </I>"
   ]
  },
  {
   "cell_type": "code",
   "execution_count": null,
   "id": "ce670a59-56a7-412a-8ef9-4d51ac7b63eb",
   "metadata": {},
   "outputs": [],
   "source": [
    "# Build of Portfolio of 50 stocks\n",
    "number_of_stocks=50\n",
    "\n",
    "# From each Cluster, we will pick the stocks with the highest risk adjusted momentum. The number of stocks from each cluster is proportional to its size\n",
    "# Let's start by calculate the number of stocks to pick from each cluster\n",
    "number_of_stocks_by_cluster=pd.DataFrame(round(number_of_stocks*clustering_result.groupby(by='Cluster').count()['Company']/clustering_result.count()['Company'],0))\n",
    "number_of_stocks_by_cluster"
   ]
  },
  {
   "cell_type": "code",
   "execution_count": null,
   "id": "a44395ae-b4fc-4505-a1d3-63bb53777e1c",
   "metadata": {},
   "outputs": [],
   "source": [
    "# Now we construct our portfolio, \n",
    "\n",
    "# initialise the portfolio \n",
    "portfolio_stocks=[]\n",
    "for cluster_num in list(number_of_stocks_by_cluster.index):\n",
    "    # for each cluster,get all the companies within this cluster\n",
    "    list_stocks=list(clustering_result.set_index('Cluster').loc[cluster_num]['Company'])\n",
    "    #get the number of stocks that we will pick for our portfolio     \n",
    "    number_stocks=number_of_stocks_by_cluster.loc[cluster_num]['Company']\n",
    "    if number_stocks>0:\n",
    "        # Compute the risk adjusted momentum for the past year\n",
    "        last_year_date=pd.to_datetime(as_of_date)+ pd.offsets.DateOffset(years=-1)\n",
    "        last_month_date=pd.to_datetime(as_of_date)+ pd.offsets.DateOffset(months=-1)\n",
    "        annual_volatility = bq.func.std(bq.func.diff(bq.func.ln(bq.func.dropna(bq.data.px_last(dates=bq.func.range(start=last_year_date, end=as_of_date)))))) * (bq.func.sqrt(252))['Value']\n",
    "        #12month-1month momentum/annualized vol         \n",
    "        risk_adjusted_momentum = (bq.func.pct_chg(bq.data.px_last(dates=bq.func.range(start=last_year_date, end=last_month_date), fill='prev'))/annual_volatility)['Value']\n",
    "        \n",
    "        # Request only the top stocks with the hishest risk adjusted momentum\n",
    "        bql_item = bq.func.groupsort(risk_adjusted_momentum)\n",
    "        bql_universe = bq.univ.filter(bq.univ.list(list_stocks), bq.func.grouprank(risk_adjusted_momentum) <= number_stocks)\n",
    "        bql_request = bql.Request(bql_universe, bql_item)\n",
    "        bql_response = bq.execute(bql_request)\n",
    "        \n",
    "        # concat the stocks retrieved from this cluster to our portfolio\n",
    "        portfolio_stocks=portfolio_stocks+list(bql_response[0].df().index)\n",
    "portfolio_stocks"
   ]
  },
  {
   "cell_type": "markdown",
   "id": "7aeebd94-1526-48bd-8a6d-88a1914d4150",
   "metadata": {},
   "source": [
    "### <I> 2. Compute Portfolio's Performance for 2021-Q2 </I>"
   ]
  },
  {
   "cell_type": "code",
   "execution_count": null,
   "id": "541d4f82-5f53-448b-8c35-1af881244ed6",
   "metadata": {},
   "outputs": [],
   "source": [
    "# Since we choosed our portfolio stocks by end the of 2021-Q1, we will run it for 2021-Q2 \n",
    "end_date='2021-06-30'\n",
    "\n",
    "# Compute the portfolio return. We will use equal weights for all the stocks\n",
    "daily_return=bq.func.dropna(bq.data.day_to_day_tot_return_gross_dvds(dates=bq.func.range(start=as_of_date, end=end_date)))+1\n",
    "cluster_portfolio_return=0\n",
    "for stock in portfolio_stocks:\n",
    "    cluster_portfolio_return=cluster_portfolio_return+bq.func.value(daily_return,bq.univ.list(stock))/len(portfolio_stocks)\n",
    "bql_universe = 'SPX Index'\n",
    "bql_request = bql.Request(bql_universe, {'cluster_portfolio_return':cluster_portfolio_return,\n",
    "                                         'spx_index_return':daily_return,\n",
    "                                        })\n",
    "bql_response=bq.execute(bql_request)\n",
    "return_ptf_index=bql.combined_df(bql_response)\n",
    "return_ptf_index=return_ptf_index.set_index('DATE').drop('ORIG_IDS',axis=1)\n",
    "return_ptf_index.head()"
   ]
  },
  {
   "cell_type": "code",
   "execution_count": null,
   "id": "f9b9aaeb-d426-4e04-9ca4-bf9142bf3683",
   "metadata": {},
   "outputs": [],
   "source": [
    "from math import sqrt\n",
    "# Compute the annual violatility, sharpe ratio and annual excess return and plot the cum return\n",
    "\n",
    "# compute the timeline for annualization\n",
    "T = (return_ptf_index['cluster_portfolio_return'].index[-1] - return_ptf_index['cluster_portfolio_return'].index[0]) / np.timedelta64(1, 'Y')\n",
    "\n",
    "#portfolio Excess Return\n",
    "portfolio_excess_return=round(100*(return_ptf_index['cluster_portfolio_return'].cumprod().iloc[-1]**(1/T) - 1),2)\n",
    "\n",
    "#Portfolio Annual Volatility\n",
    "portfolio_annual_volatility=round(100*return_ptf_index['cluster_portfolio_return'].std()*sqrt(252),2)\n",
    "\n",
    "#Portfolio Sharpe Ratio\n",
    "portfolio_sharpe_ratio=round((portfolio_excess_return)/portfolio_annual_volatility,2)\n",
    "\n",
    "# Plot Results\n",
    "print (\"Portfolio Annual Excess Return : {}%\".format(portfolio_excess_return))\n",
    "print (\"Portfolio Annual Volatility    : {}% \".format(portfolio_annual_volatility))\n",
    "print (\"Portfolio Sharpe Ratio         : {}\".format(portfolio_sharpe_ratio)) \n",
    "plot_ptf_performance=bqviz.InteractiveLinePlot(df = return_ptf_index.cumprod(), legend= 'outside')\n",
    "plot_ptf_performance.show()"
   ]
  },
  {
   "cell_type": "markdown",
   "id": "a7dded14-6637-4cc5-85b6-092c617ad26e",
   "metadata": {},
   "source": [
    "You can repeat this analysis in order to build a portfolio that rebalances every end of Quarter. Please be mindful to the amount of data retrieved using your BQL Queries in order to avoid data limit issues.\n",
    "<h3>References and Additional Resources</h3>\n"
   ]
  },
  {
   "cell_type": "markdown",
   "id": "a27dc91e-5a1b-4276-b40e-e7b432d33103",
   "metadata": {},
   "source": [
    "<ul>\n",
    "        \n",
    "  <li><a href =\"https://www.cs.princeton.edu/sites/default/files/uploads/karina_marvin.pdf\"> Princeton University: Creating Diversified Portfolios Using Cluster Analysis </a></li>\n",
    " <li> <a href =\"https://scholarship.claremont.edu/cgi/viewcontent.cgi?article=3517&context=cmc_theses\"> Scholarship @ Claremont :K-Means Stock Clustering Analysis Based on Historical Price Movements and Financial Ratios  </a> </li>\n",
    " <li> <a href =\"https://realpython.com/k-means-clustering-python/\"> Real Python: K-Means Clustering in Python: A Practical Guide  </a> </li>\n",
    "</ul>"
   ]
  }
 ],
 "metadata": {
  "kernelspec": {
   "display_name": "Python 3 (sandboxed)",
   "language": "python",
   "name": "python3"
  },
  "language_info": {
   "codemirror_mode": {
    "name": "ipython",
    "version": 3
   },
   "file_extension": ".py",
   "mimetype": "text/x-python",
   "name": "python",
   "nbconvert_exporter": "python",
   "pygments_lexer": "ipython3",
   "version": "3.7.1"
  }
 },
 "nbformat": 4,
 "nbformat_minor": 5
}
